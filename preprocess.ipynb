{
 "cells": [
  {
   "cell_type": "code",
   "execution_count": 44,
   "metadata": {},
   "outputs": [],
   "source": [
    "import os\n",
    "import shutil\n",
    "import cv2\n",
    "import numpy as np\n",
    "import pandas as pd\n",
    "from sklearn.model_selection import train_test_split\n",
    "from sklearn.metrics import accuracy_score, precision_score, recall_score, f1_score"
   ]
  },
  {
   "cell_type": "code",
   "execution_count": 26,
   "metadata": {},
   "outputs": [],
   "source": [
    "yes_folder_path = \"brain_tumor_dataset/yes\"\n",
    "no_folder_path = \"brain_tumor_dataset/no\"\n",
    "combined_folder_path = \"Dataset\"\n",
    "\n",
    "for filename in os.listdir(yes_folder_path):\n",
    "    src_path = os.path.join(yes_folder_path, filename)\n",
    "    dst_path = os.path.join(combined_folder_path, \"1_\" + filename)\n",
    "    shutil.copyfile(src_path, dst_path)\n",
    "\n",
    "for filename in os.listdir(no_folder_path):\n",
    "    src_path = os.path.join(no_folder_path, filename)\n",
    "    dst_path = os.path.join(combined_folder_path, \"0_\" + filename)\n",
    "    shutil.copyfile(src_path, dst_path)\n"
   ]
  },
  {
   "cell_type": "code",
   "execution_count": 45,
   "metadata": {},
   "outputs": [],
   "source": [
    "# Set up the path to the combined folder\n",
    "combined_folder_path = \"Dataset\"\n",
    "\n",
    "# Create an empty list to store the image paths and labels\n",
    "data = []\n",
    "\n",
    "# Loop through the images in the combined folder\n",
    "for filename in os.listdir(combined_folder_path):\n",
    "    # Get the label from the filename\n",
    "    label = filename.split(\"_\")[0]\n",
    "    \n",
    "    # Map the label to a binary label (1 for \"yes\", 0 for \"no\")\n",
    "    binary_label = 1 if label == '1' else 0\n",
    "    \n",
    "    # Get the full path to the image\n",
    "    image_path = os.path.join(combined_folder_path, filename)\n",
    "    \n",
    "    # Load the image using OpenCV and convert it to grayscale\n",
    "    image = cv2.imread(image_path, cv2.IMREAD_GRAYSCALE)\n",
    "    \n",
    "    # Resize the image to a fixed size (e.g. 64x64)\n",
    "    image = cv2.resize(image, (64, 64))\n",
    "    \n",
    "    # Flatten the image array into a 1D vector\n",
    "    image = image.flatten()\n",
    "    \n",
    "    # Append the flattened image and binary label to the data list\n",
    "    data.append((image, binary_label))\n",
    "\n",
    "# Create a pandas DataFrame from the data list\n",
    "df = pd.DataFrame(data, columns=[\"image\", \"binary_label\"])"
   ]
  },
  {
   "attachments": {},
   "cell_type": "markdown",
   "metadata": {},
   "source": [
    "### Making a dataframe with image and respective classification."
   ]
  },
  {
   "attachments": {},
   "cell_type": "markdown",
   "metadata": {},
   "source": [
    "### K-NN"
   ]
  },
  {
   "cell_type": "code",
   "execution_count": 46,
   "metadata": {},
   "outputs": [],
   "source": [
    "from sklearn.neighbors import KNeighborsClassifier"
   ]
  },
  {
   "cell_type": "code",
   "execution_count": 53,
   "metadata": {},
   "outputs": [
    {
     "name": "stdout",
     "output_type": "stream",
     "text": [
      "Accuracy: 0.7058823529411765\n",
      "Precision: 0.9047619047619048\n",
      "Recall: 0.59375\n",
      "F1-score: 0.7169811320754718\n"
     ]
    }
   ],
   "source": [
    "# Split the data into training and testing sets\n",
    "x_train, x_test, y_train, y_test = train_test_split(df[\"image\"], df[\"binary_label\"], test_size=0.2, random_state=42)\n",
    "\n",
    "# Convert the image data to numpy arrays\n",
    "x_train = np.array(x_train.tolist())\n",
    "x_test = np.array(x_test.tolist())\n",
    "\n",
    "# Create a KNN classifier with k=5\n",
    "knn = KNeighborsClassifier(n_neighbors=5)\n",
    "\n",
    "# Train the classifier on the training data\n",
    "knn.fit(x_train, y_train)\n",
    "\n",
    "# Make predictions on the testing data\n",
    "y_pred = knn.predict(x_test)\n",
    "\n",
    "# Evaluate the classifier using binary classification metrics\n",
    "accuracy = accuracy_score(y_test, y_pred)\n",
    "precision = precision_score(y_test, y_pred, zero_division=1)\n",
    "recall = recall_score(y_test, y_pred, zero_division=1)\n",
    "f1 = f1_score(y_test, y_pred, zero_division=1)\n",
    "\n",
    "print(\"Accuracy:\", accuracy)\n",
    "print(\"Precision:\", precision)\n",
    "print(\"Recall:\", recall)\n",
    "print(\"F1-score:\", f1)\n"
   ]
  },
  {
   "attachments": {},
   "cell_type": "markdown",
   "metadata": {},
   "source": [
    "#### Hyperparameter Optimization"
   ]
  },
  {
   "cell_type": "code",
   "execution_count": 58,
   "metadata": {},
   "outputs": [
    {
     "name": "stdout",
     "output_type": "stream",
     "text": [
      "Best hyperparameters: {'n_neighbors': 11, 'p': 1, 'weights': 'distance'}\n",
      "Best accuracy score: 0.7919512195121952\n"
     ]
    }
   ],
   "source": [
    "\n",
    "\n",
    "param_grid = {\n",
    "    'n_neighbors': [3, 5, 7, 9, 11, 13, 15],\n",
    "    'weights': ['uniform', 'distance'],\n",
    "    'p': [1, 2]\n",
    "}\n",
    "\n",
    "knn = KNeighborsClassifier()\n",
    "grid_search = GridSearchCV(knn, param_grid, cv=5, scoring='accuracy')\n",
    "grid_search.fit(x_train, y_train)\n",
    "\n",
    "print(\"Best hyperparameters:\", grid_search.best_params_)\n",
    "print(\"Best accuracy score:\", grid_search.best_score_)\n"
   ]
  },
  {
   "attachments": {},
   "cell_type": "markdown",
   "metadata": {},
   "source": [
    "### SVM"
   ]
  },
  {
   "cell_type": "code",
   "execution_count": null,
   "metadata": {},
   "outputs": [],
   "source": [
    "from sklearn.svm import SVC"
   ]
  },
  {
   "cell_type": "code",
   "execution_count": 36,
   "metadata": {},
   "outputs": [
    {
     "name": "stdout",
     "output_type": "stream",
     "text": [
      "Accuracy: 0.7058823529411765\n",
      "Precision: 0.7428571428571429\n",
      "Recall: 0.8125\n",
      "F1-score: 0.7761194029850748\n"
     ]
    }
   ],
   "source": [
    "# Create an SVM classifier with a linear kernel\n",
    "svm = SVC(kernel='linear')\n",
    "\n",
    "# Train the classifier on the training data\n",
    "svm.fit(X_train, y_train)\n",
    "\n",
    "# Make predictions on the testing data\n",
    "y_pred = svm.predict(X_test)\n",
    "\n",
    "# Evaluate the classifier using binary classification metrics\n",
    "accuracy = accuracy_score(y_test, y_pred)\n",
    "precision = precision_score(y_test, y_pred, zero_division=1)\n",
    "recall = recall_score(y_test, y_pred, zero_division=1)\n",
    "f1 = f1_score(y_test, y_pred, zero_division=1)\n",
    "\n",
    "print(\"Accuracy:\", accuracy)\n",
    "print(\"Precision:\", precision)\n",
    "print(\"Recall:\", recall)\n",
    "print(\"F1-score:\", f1)\n"
   ]
  },
  {
   "attachments": {},
   "cell_type": "markdown",
   "metadata": {},
   "source": [
    "#### Hyperparameter Optimization"
   ]
  },
  {
   "cell_type": "code",
   "execution_count": 61,
   "metadata": {},
   "outputs": [],
   "source": [
    "from sklearn.metrics import classification_report"
   ]
  },
  {
   "cell_type": "code",
   "execution_count": 64,
   "metadata": {},
   "outputs": [
    {
     "name": "stdout",
     "output_type": "stream",
     "text": [
      "Best hyperparameters: {'C': 10, 'degree': 2, 'gamma': 'scale', 'kernel': 'rbf'}\n",
      "Best accuracy score: 0.8269512195121951\n",
      "              precision    recall  f1-score   support\n",
      "\n",
      "           0       0.87      0.68      0.76        19\n",
      "           1       0.83      0.94      0.88        32\n",
      "\n",
      "    accuracy                           0.84        51\n",
      "   macro avg       0.85      0.81      0.82        51\n",
      "weighted avg       0.85      0.84      0.84        51\n",
      "\n"
     ]
    }
   ],
   "source": [
    "# define parameter grid to search over\n",
    "\n",
    "\n",
    "from sklearn.model_selection import GridSearchCV\n",
    "\n",
    "\n",
    "param_grid = {'C': [0.1, 1, 10, 100], \n",
    "              'kernel': ['linear', 'rbf', 'poly'], \n",
    "              'degree': [2, 3, 4], \n",
    "              'gamma': ['scale', 'auto']}\n",
    "\n",
    "# create instance of SVM classifier\n",
    "clf = SVC()\n",
    "\n",
    "# create instance of GridSearchCV\n",
    "grid_search = GridSearchCV(clf, param_grid, cv=5)\n",
    "\n",
    "# fit the grid search object to the training data\n",
    "grid_search.fit(x_train, y_train)\n",
    "\n",
    "# print the best hyperparameters found by GridSearchCV\n",
    "print(\"Best hyperparameters:\", grid_search.best_params_)\n",
    "\n",
    "# use the best model to make predictions on the test data\n",
    "y_pred = grid_search.predict(x_test)\n",
    "\n",
    "print(\"Best accuracy score:\", grid_search.best_score_)\n",
    "\n",
    "# print classification report\n",
    "print(classification_report(y_test, y_pred))\n"
   ]
  },
  {
   "attachments": {},
   "cell_type": "markdown",
   "metadata": {},
   "source": [
    "### Random Forest Classifier"
   ]
  },
  {
   "cell_type": "code",
   "execution_count": 38,
   "metadata": {},
   "outputs": [],
   "source": [
    "from sklearn.ensemble import RandomForestClassifier"
   ]
  },
  {
   "cell_type": "code",
   "execution_count": 39,
   "metadata": {},
   "outputs": [
    {
     "name": "stdout",
     "output_type": "stream",
     "text": [
      "Accuracy: 0.6274509803921569\n",
      "Precision: 0.6585365853658537\n",
      "Recall: 0.84375\n",
      "F1-score: 0.7397260273972602\n"
     ]
    }
   ],
   "source": [
    "# Create a random forest classifier with 100 trees\n",
    "rf = RandomForestClassifier(n_estimators=100, random_state=42)\n",
    "\n",
    "# Train the classifier on the training data\n",
    "rf.fit(x_train, y_train)\n",
    "\n",
    "# Make predictions on the testing data\n",
    "y_pred = rf.predict(x_test)\n",
    "\n",
    "# Evaluate the classifier using binary classification metrics\n",
    "accuracy = accuracy_score(y_test, y_pred)\n",
    "precision = precision_score(y_test, y_pred)\n",
    "recall = recall_score(y_test, y_pred, zero_division=1)\n",
    "f1 = f1_score(y_test, y_pred)\n",
    "\n",
    "print(\"Accuracy:\", accuracy)\n",
    "print(\"Precision:\", precision)\n",
    "print(\"Recall:\", recall)\n",
    "print(\"F1-score:\", f1)\n"
   ]
  },
  {
   "attachments": {},
   "cell_type": "markdown",
   "metadata": {},
   "source": [
    "#### Hyperparameter Optimization"
   ]
  },
  {
   "cell_type": "code",
   "execution_count": 66,
   "metadata": {},
   "outputs": [
    {
     "name": "stdout",
     "output_type": "stream",
     "text": [
      "Best hyperparameters: {'max_depth': None, 'max_features': 'log2', 'min_samples_leaf': 2, 'min_samples_split': 2, 'n_estimators': 100}\n",
      "Best accuracy score: 0.8265853658536585\n",
      "              precision    recall  f1-score   support\n",
      "\n",
      "           0       0.83      0.79      0.81        19\n",
      "           1       0.88      0.91      0.89        32\n",
      "\n",
      "    accuracy                           0.86        51\n",
      "   macro avg       0.86      0.85      0.85        51\n",
      "weighted avg       0.86      0.86      0.86        51\n",
      "\n"
     ]
    }
   ],
   "source": [
    "# define parameter grid to search over\n",
    "param_grid = {'n_estimators': [100, 300, 500],\n",
    "              'max_depth': [None, 10, 50, 100],\n",
    "              'min_samples_split': [2, 5, 10],\n",
    "              'min_samples_leaf': [1, 2, 4],\n",
    "              'max_features': ['sqrt', 'log2']}\n",
    "\n",
    "# create instance of Random Forest Classifier\n",
    "clf = RandomForestClassifier()\n",
    "\n",
    "# create instance of GridSearchCV\n",
    "grid_search = GridSearchCV(clf, param_grid, cv=5)\n",
    "\n",
    "# fit the grid search object to the training data\n",
    "grid_search.fit(x_train, y_train)\n",
    "\n",
    "# print the best hyperparameters found by GridSearchCV\n",
    "print(\"Best hyperparameters:\", grid_search.best_params_)\n",
    "print(\"Best accuracy score:\", grid_search.best_score_)\n",
    "print(\"Best accuracy score:\", grid_search.best_score_)\n",
    "\n",
    "# use the best model to make predictions on the test data\n",
    "y_pred = grid_search.predict(x_test)\n",
    "\n",
    "# print classification report\n",
    "print(classification_report(y_test, y_pred))\n"
   ]
  }
 ],
 "metadata": {
  "kernelspec": {
   "display_name": "Python 3 (ipykernel)",
   "language": "python",
   "name": "python3"
  },
  "language_info": {
   "codemirror_mode": {
    "name": "ipython",
    "version": 3
   },
   "file_extension": ".py",
   "mimetype": "text/x-python",
   "name": "python",
   "nbconvert_exporter": "python",
   "pygments_lexer": "ipython3",
   "version": "3.10.9"
  },
  "vscode": {
   "interpreter": {
    "hash": "aee8b7b246df8f9039afb4144a1f6fd8d2ca17a180786b69acc140d282b71a49"
   }
  }
 },
 "nbformat": 4,
 "nbformat_minor": 2
}
